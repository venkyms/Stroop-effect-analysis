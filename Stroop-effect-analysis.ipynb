{
 "cells": [
  {
   "cell_type": "markdown",
   "metadata": {},
   "source": [
    "## Project Report to Test a Perceptual Phenomenon using Stroop Effect\n",
    "\n",
    "## Table of Contents\n",
    "- [Abstract](#abstract)\n",
    "- [Questions For Investigation](#q)\n",
    "    - [1. What is our independent variable? What is our dependent variable?](#q1)\n",
    "    - [2. What is an appropriate set of hypotheses for this task? What kind of statistical test do you expect to perform? Justify your choices.](#q2)\n",
    "    - [3. Report some descriptive statistics regarding this dataset. Include at least one measure of central tendency and at least one measure of variability.](#q3)\n",
    "    - [4. Provide one or two visualizations that show the distribution of the sample data. Write one or two sentences noting what you observe about the plot or plots.](#q4)\n",
    "    - [5. Now, perform the statistical test and report your results. What is your confidence level and your critical statistic value? Do you reject the null hypothesis or fail to reject it? Come to a conclusion in terms of the experiment task. Did the results match up with your expectations?](#q5)\n",
    "    - [6. What do you think is responsible for the effects observed? Can you think of an alternative or similar task that would result in a similar effect? Some research about the problem will be helpful for thinking about these two questions!](#q6)\n",
    "\n",
    "- [Conclusion](#c)\n",
    "- [Reference](#r)\n",
    "\n",
    "\n",
    "\n",
    "<a id='abstract'></a>\n",
    "## Abstract\n",
    "\n",
    "In a Stroop task, participants are presented with a list of words, with each word displayed in a color of ink. The participant’s task is to say out loud the color of the ink in which the word is printed. The task has two conditions: a congruent words condition, and an incongruent words condition. In the congruent words condition, the words being displayed are color words whose names match the colors in which they are printed: for example RED, BLUE. In the incongruent words condition, the words displayed are color words whose names do not match the colors in which they are printed: for example PURPLE, ORANGE. In each case, we measure the time it takes to name the ink colors in equally-sized lists. Each participant will go through and record a time from each condition.\n",
    "\n",
    "- **Congruent Variables**\n",
    "<img src='img/congruent.png' height='320' width='442'/>\n",
    "\n",
    "- **Incongruent Variables**\n",
    "<img src='img/incongruent.png' height='320' width='442'/>\n",
    "\n",
    "\n",
    "\n",
    "<a id='q'></a>          \n",
    "## Questions For Investigation\n",
    "\n",
    "<a id='q1'></a>           \n",
    "### 1. What is our independent variable? What is our dependent variable?\n",
    "\n",
    "- **Independent Variable** : Congruent and Incongruent words\n",
    "- **Dependent Variable**   : Response time\n",
    "\n",
    "\n",
    "<a id='q2'></a>\n",
    "### 2. What is an appropriate set of hypotheses for this task? What kind of statistical test do you expect to perform? Justify your choices.\n",
    "\n",
    "Here for this problem I am trying to find if there is any significant difference in response time for Congruent and Incongruent variable with an appropriate statistical test.\n",
    "\n",
    "Here there are two set of dependent samples(i.e, same subject in invloved in both task), and the population mean is not provided. The sample size are small and I need to find the difference the samples. And statistically infere the difference in population mean.\n",
    "\n",
    "\n",
    "So for this condition **T-Test** would be the appropriate statistical test.\n",
    "\n",
    "\n",
    "**Null Hypotheses** :\n",
    "\n",
    "Null hypotheses can be defined as there is no difference in mean response time of Congruent and Incongruent variables. Which mean the time taken to read the out the color in both the case is same.\n",
    "\n",
    "This can be represented by below equation\n",
    "\n",
    "$H_0: \\mu_c = \\mu_i$\n",
    "\n",
    "And above equation can be further redefined as : \n",
    "\n",
    "$H_0: \\mu_c - \\mu_i  = 0$\n",
    "\n",
    "\n",
    "**Alternate Hypotheses** :\n",
    "\n",
    "Alternate hypotheses is to prove Null hypotheses is false. Which means there is a significant difference in mean response time of Congruent and Incongruent variables. And both are not same.\n",
    "\n",
    "This can be represented by below equation\n",
    "\n",
    "$H_1: \\mu_c \\neq \\mu_i$\n",
    "\n",
    "And above equation can be further redefined as :\n",
    "\n",
    "$H_1: \\mu_c - \\mu_i  \\neq 0$\n",
    "\n",
    "\n",
    "| Symbol  | Description                                |\n",
    "|:--------|:------------------------------------------:|\n",
    "| $H_0$   |Null hypotheses                             |\n",
    "| $H_1$   |Alternate hypotheses                        |\n",
    "| $\\mu_c$ |Population mean of congruent variable       |\n",
    "| $\\mu_i$ |Population mean of incongruent variable     |\n",
    "\n",
    "\n",
    "\n",
    "<a id='q3'></a>\n",
    "### 3. Report some descriptive statistics regarding this dataset. Include at least one measure of central tendency and at least one measure of variability.\n",
    "\n",
    "|Descriptive Statistics            |Value|\n",
    "| :------------------------------- | :---|\n",
    "|**Congruent mean**                |14.05|\n",
    "|**Congruent variance**            |12.67|\n",
    "|**Congruent standard deviation**  |3.56 |\n",
    "|**Congruent Standard Error**      |0.73 |\n",
    "|**Incongruent mean**              |22.02|\n",
    "|**Incongruent variance**          |23.01|\n",
    "|**Incongruent standard deviation**|4.8  |\n",
    "|**Incongruent Standard Error**    |0.98 |\n",
    "\n",
    "Below is the Python program used to generate above data\n"
   ]
  },
  {
   "cell_type": "code",
   "execution_count": 1,
   "metadata": {},
   "outputs": [],
   "source": [
    "import pandas as pd\n",
    "import matplotlib.pyplot as plt\n",
    "import math\n"
   ]
  },
  {
   "cell_type": "code",
   "execution_count": 2,
   "metadata": {},
   "outputs": [],
   "source": [
    "def calculate_discriptive_statistics_data(label):\n",
    "    \"\"\"\n",
    "       Function to calculate Descriptive statistics data\n",
    "    :param label: Column name in CSV file\n",
    "    :return: None\n",
    "    \"\"\"\n",
    "\n",
    "    df = stroop_effect_df[label]\n",
    "\n",
    "    # find mean of DataFrame value\n",
    "    df_mean = round(df.mean(), 2)\n",
    "    print('{} mean: {}'.format(label, df_mean))\n",
    "\n",
    "    # find variance of DataFrame value\n",
    "    df_variance = round(df.var(), 2)\n",
    "    print('{} variance: {}'.format(label, df_variance))\n",
    "\n",
    "    # find standard deviation for DataFrame value\n",
    "    df_sd = round(df.std(), 2)\n",
    "    print('{} standard deviation: {}'.format(label, df_sd))\n",
    "\n",
    "    # find standard error for DataFrame value\n",
    "    df_sem = round(df.sem(), 2)\n",
    "    print('{} Standard Error: {}'.format(label, df_sem))"
   ]
  },
  {
   "cell_type": "code",
   "execution_count": 3,
   "metadata": {},
   "outputs": [
    {
     "name": "stdout",
     "output_type": "stream",
     "text": [
      "    Congruent  Incongruent\n",
      "0      12.079       19.278\n",
      "1      16.791       18.741\n",
      "2       9.564       21.214\n",
      "3       8.630       15.687\n",
      "4      14.669       22.803\n",
      "5      12.238       20.878\n",
      "6      14.692       24.572\n",
      "7       8.987       17.394\n",
      "8       9.401       20.762\n",
      "9      14.480       26.282\n",
      "10     22.328       24.524\n",
      "11     15.298       18.644\n",
      "12     15.073       17.510\n",
      "13     16.929       20.330\n",
      "14     18.200       35.255\n",
      "15     12.130       22.158\n",
      "16     18.495       25.139\n",
      "17     10.639       20.429\n",
      "18     11.344       17.425\n",
      "19     12.369       34.288\n",
      "20     12.944       23.894\n",
      "21     14.233       17.960\n",
      "22     19.710       22.058\n",
      "23     16.004       21.157\n",
      "Congruent mean: 14.05\n",
      "Congruent variance: 12.67\n",
      "Congruent standard deviation: 3.56\n",
      "Congruent Standard Error: 0.73\n",
      "Incongruent mean: 22.02\n",
      "Incongruent variance: 23.01\n",
      "Incongruent standard deviation: 4.8\n",
      "Incongruent Standard Error: 0.98\n"
     ]
    }
   ],
   "source": [
    "stroop_effect_df = pd.read_csv('data/stroopdata.csv')\n",
    "print(stroop_effect_df)\n",
    "calculate_discriptive_statistics_data('Congruent')\n",
    "calculate_discriptive_statistics_data('Incongruent')"
   ]
  },
  {
   "cell_type": "markdown",
   "metadata": {},
   "source": [
    "<a id='q4'></a>\n",
    "### 4. Provide one or two visualizations that show the distribution of the sample data. Write one or two sentences noting what you observe about the plot or plots.\n",
    "\n",
    "Below program will generate the visualization for the stroop effect data"
   ]
  },
  {
   "cell_type": "code",
   "execution_count": 4,
   "metadata": {},
   "outputs": [],
   "source": [
    "def display_stroop_effect_plot():\n",
    "    \"\"\"\n",
    "    Function to generate a bar plot to display the Congruent and Incongruent data in plot\n",
    "    :return: None\n",
    "    \"\"\"\n",
    "    ax = stroop_effect_df.plot.box()\n",
    "    ax.set_title('Stroop Effect plot')\n",
    "    ax.set_xlabel('Test Subject')\n",
    "    ax.set_ylabel('Response Time')\n",
    "    plt.show()\n",
    "\n"
   ]
  },
  {
   "cell_type": "code",
   "execution_count": 5,
   "metadata": {},
   "outputs": [
    {
     "data": {
      "image/png": "[encoded data removed]",
      "text/plain": [
       "<Figure size 432x288 with 1 Axes>"
      ]
     },
     "metadata": {},
     "output_type": "display_data"
    }
   ],
   "source": [
    "display_stroop_effect_plot()"
   ]
  },
  {
   "cell_type": "markdown",
   "metadata": {},
   "source": [
    "Based on above plot which is plotted based on the congruent and incongruent data samples. There is a significant difference in the response time for Congruent and Incongruent variables.\n",
    "\n",
    "And based on the plot there is an increase in response time for Incongruent variables when compared to Congruent variable. This needs to be further proved with two tailed T-test."
   ]
  },
  {
   "cell_type": "markdown",
   "metadata": {},
   "source": [
    "<a id='q5'></a>\n",
    "### 5. Now, perform the statistical test and report your results. What is your confidence level and your critical statistic value? Do you reject the null hypothesis or fail to reject it? Come to a conclusion in terms of the experiment task. Did the results match up with your expectations?\n",
    "\n",
    "- **Mean Difference**: -7.96\n",
    "- **Difference Standard Deviation**: 4.86\n",
    "- **Difference Standard Error**: 0.99\n",
    "- **t-Statistics**: -8.02\n",
    "- **t-critical value at 95% confidence level and DF at 23 is**: $\\pm2.069$\n",
    "\n",
    "\n",
    "Above data is the output of below python program which performs the statistical test on the difference data."
   ]
  },
  {
   "cell_type": "code",
   "execution_count": 6,
   "metadata": {},
   "outputs": [],
   "source": [
    "def perform_statistical_analysis():\n",
    "    \"\"\"\n",
    "    Function to perform all t-statistical analysis\n",
    "    :return: None\n",
    "    \"\"\"\n",
    "\n",
    "    # Generate Difference data for Congruent and InCongruent values\n",
    "    df = stroop_effect_df\n",
    "    df['Difference'] = df['Congruent'] - df['Incongruent']\n",
    "    print(df)\n",
    "\n",
    "    # Find the Mean of the difference value\n",
    "    mean_difference = round(df['Difference'].mean(), 2)\n",
    "    print('Mean Difference: {}'.format(mean_difference))\n",
    "\n",
    "    # Find the Standard Deviation of the difference value\n",
    "    difference_sd = round(df['Difference'].std(), 2)\n",
    "    print('Difference Standard Deviation: {}'.format(difference_sd))\n",
    "\n",
    "    # Find the Standard Error of the difference value\n",
    "    difference_sem = round(df['Difference'].sem(), 2)\n",
    "    print('Difference Standard Error: {}'.format(difference_sem))\n",
    "\n",
    "    # Find the t-statistics of the difference value\n",
    "    n = len(df['Difference'])\n",
    "    t_statistic = round(mean_difference / (difference_sd / math.sqrt(n)), 2)\n",
    "    print('t-Statistics: {}'.format(t_statistic))\n",
    "\n",
    "    # Got the t-critical value from t-table manually\n",
    "    degrees_of_freedom = n - 1\n",
    "    t_critical = 2.069\n",
    "    print('t-critical value at 95% confidence level and DF at {} is: +or-{}'.format(degrees_of_freedom, t_critical))"
   ]
  },
  {
   "cell_type": "code",
   "execution_count": 9,
   "metadata": {},
   "outputs": [
    {
     "name": "stdout",
     "output_type": "stream",
     "text": [
      "    Congruent  Incongruent  Difference\n",
      "0      12.079       19.278      -7.199\n",
      "1      16.791       18.741      -1.950\n",
      "2       9.564       21.214     -11.650\n",
      "3       8.630       15.687      -7.057\n",
      "4      14.669       22.803      -8.134\n",
      "5      12.238       20.878      -8.640\n",
      "6      14.692       24.572      -9.880\n",
      "7       8.987       17.394      -8.407\n",
      "8       9.401       20.762     -11.361\n",
      "9      14.480       26.282     -11.802\n",
      "10     22.328       24.524      -2.196\n",
      "11     15.298       18.644      -3.346\n",
      "12     15.073       17.510      -2.437\n",
      "13     16.929       20.330      -3.401\n",
      "14     18.200       35.255     -17.055\n",
      "15     12.130       22.158     -10.028\n",
      "16     18.495       25.139      -6.644\n",
      "17     10.639       20.429      -9.790\n",
      "18     11.344       17.425      -6.081\n",
      "19     12.369       34.288     -21.919\n",
      "20     12.944       23.894     -10.950\n",
      "21     14.233       17.960      -3.727\n",
      "22     19.710       22.058      -2.348\n",
      "23     16.004       21.157      -5.153\n",
      "Mean Difference: -7.96\n",
      "Difference Standard Deviation: 4.86\n",
      "Difference Standard Error: 0.99\n",
      "t-Statistics: -8.02\n",
      "t-critical value at 95% confidence level and DF at 23 is: +or-2.069\n"
     ]
    }
   ],
   "source": [
    "perform_statistical_analysis()"
   ]
  },
  {
   "cell_type": "markdown",
   "metadata": {},
   "source": [
    "<a id='c'></a>\n",
    "### Conclusion\n",
    "\n",
    "Based on the t-test results t-statistics value lies in t-critical region. So the Null hypotheses can be rejected here.\n",
    "This proves that, there is a significant difference in response time between Congruent and InCongruent variables.\n"
   ]
  },
  {
   "cell_type": "markdown",
   "metadata": {},
   "source": [
    "<a id='q6'></a>\n",
    "### 6. What do you think is responsible for the effects observed? Can you think of an alternative or similar task that would result in a similar effect? Some research about the problem will be helpful for thinking about these two questions!\n",
    "\n",
    "**What do you think is responsible for the effects observed?**\n",
    "As habitual readers, we encounter and comprehend words on such a persistent basis that the reading occurs almost effortlessly, whereas declaration of a color requires more cognitive effort. When there is a conflict between these two sources of information, our cognitive load is increased, and our brains have to work harder to resolve the required difference. Performing these tasks (preventing reading, processing word color, and resolving information conflict) ultimately slows down our responses, and makes the task take longer.\n",
    "\n",
    "**Can you think of an alternative or similar task that would result in a similar effect?**\n",
    "Similar effect can be noticed in Picture Word task. If the Picture and the words are differenc then there will be an increase in response time to read the word. For example if there is a Elephant picture and the word says cat, our brain tends to identify the picture first.\n"
   ]
  },
  {
   "cell_type": "markdown",
   "metadata": {},
   "source": [
    "### Reference\n",
    "- https://statistics.laerd.com/statistical-guides/types-of-variable.php\n",
    "- http://www.dummies.com/education/math/statistics/how-to-calculate-percentiles-in-statistics/\n",
    "- https://pandas.pydata.org/pandas-docs/stable/api.html (Panda documentation)\n",
    "- https://www.youtube.com/watch?v=FE4qaRNZzS0&ytbChannel=null (Two sample t-test)\n",
    "- https://stackoverflow.com/questions/28748301/how-can-i-left-align-latex-equations-in-r-markdown (Stackoverflow is used for other queries aswell)\n",
    "- https://imotions.com/blog/the-stroop-effect/"
   ]
  },
  {
   "cell_type": "code",
   "execution_count": 42,
   "metadata": {},
   "outputs": [
    {
     "data": {
      "text/plain": [
       "0"
      ]
     },
     "execution_count": 42,
     "metadata": {},
     "output_type": "execute_result"
    }
   ],
   "source": [
    "from subprocess import call\n",
    "call(['python', '-m', 'nbconvert', 'Stroop-effect-analysis.ipynb'])"
   ]
  }
 ],
 "metadata": {
  "kernelspec": {
   "display_name": "Python 3",
   "language": "python",
   "name": "python3"
  },
  "language_info": {
   "codemirror_mode": {
    "name": "ipython",
    "version": 3
   },
   "file_extension": ".py",
   "mimetype": "text/x-python",
   "name": "python",
   "nbconvert_exporter": "python",
   "pygments_lexer": "ipython3",
   "version": "3.6.4"
  }
 },
 "nbformat": 4,
 "nbformat_minor": 2
}
